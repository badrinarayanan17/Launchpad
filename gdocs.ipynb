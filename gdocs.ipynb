{
 "cells": [
  {
   "cell_type": "markdown",
   "metadata": {},
   "source": [
    "## Google drive files to interact with llm's"
   ]
  },
  {
   "cell_type": "markdown",
   "metadata": {},
   "source": [
    "Credentials path setup is very important to access all the google drive files. Consists of several steps to do in google cloud."
   ]
  },
  {
   "cell_type": "code",
   "execution_count": 39,
   "metadata": {},
   "outputs": [],
   "source": [
    "from langchain.document_loaders import GoogleDriveLoader\n",
    "from langchain_groq import ChatGroq\n",
    "import os"
   ]
  },
  {
   "cell_type": "code",
   "execution_count": 40,
   "metadata": {},
   "outputs": [],
   "source": [
    "os.environ[\"GOOGLE_APPLICATION_CREDENTIALS\"] = "C:\Users\admin\Downloads\client_secret_273359596155-ttd05aobvtqnp22d3usbs9jr7b5pe342.apps.googleusercontent.com.json"
   ]
  },
  {
   "cell_type": "markdown",
   "metadata": {},
   "source": [
    "Calling GoogleDriveLoader from langchain by specifying document id's and credentials for authentication. Folder id also can be used."
   ]
  },
  {
   "cell_type": "code",
   "execution_count": 41,
   "metadata": {},
   "outputs": [],
   "source": [
    "loader = GoogleDriveLoader(document_ids=[\"1XdkEiSJl6PmoZr5x-2Rz1xkPC4OYismcK6utkrYQfxw\"],\n",
    "                            credentials_path=\"C:\Windows\CRENDENTIALS\client_secret_273359596155-ttd05aobvtqnp22d3usbs9jr7b5pe342.apps.googleusercontent.com.json\")\n",
    "                           "
   ]
  },
  {
   "cell_type": "code",
   "execution_count": 42,
   "metadata": {},
   "outputs": [],
   "source": [
    "docs = loader.load()"
   ]
  },
  {
   "cell_type": "code",
   "execution_count": 43,
   "metadata": {},
   "outputs": [
    {
     "data": {
      "text/plain": [
       "[Document(page_content=\"\\ufeffAYSHA DHEESAN BANU A S\\r\\n  \\r\\n  AYSHA DHEESAN BANU A |    7845360573  |     dheesanaysha@gmail.com  |     AYSHA DHEESAN BANU A18\\r\\nMy Career trajectory is firmly aligned with GenAI. Actively enhancing my expertise to leverage large language models (LLMs) for developing transformative Generative AI applications.\\r\\n\\r\\n\\r\\nSkills _____________________________________________________________________\\r\\n\\r\\n•  LLM | Python | LangChain | crewAI | DialogFlow | Streamlit | Chainlit | Vector DB | FastAPI | PostgreSQL | PostmanAPI | Git |\\r\\n\\r\\nExperience _______________________________________________________________________________________\\r\\n\\r\\nManagement Trainee\\r\\n\\t\\r\\n\\r\\n\\tNSP\\r\\n\\tBangalore, KA, India\\r\\n\\t02/2023 - 05/2023\\r\\n\\t•   Contributed to an AI/ML-driven performance analytics system, delivering a proof of concept in just 3 months. Researched and integrated AIML innovations, earning stakeholder acclaim. Communicated key updates to executives and documented the project’s framework and results, laying the groundwork for ongoing advancements.\\r\\n\\r\\nEducation ________________________________________________________________________________________\\r\\n\\r\\nMaster of Science (MS)\\r\\n•   \\r\\n    • Artificial Intelligence and Machine Learning\\r\\n\\t\\r\\n\\r\\n\\tChrist University\\r\\n\\tBangalore, KA, India\\r\\n\\t2023 - 2025\\r\\n\\t\\r\\n\\r\\nBsc Computer Science (SSS)\\r\\n•   \\r\\n    • Security System Specialization\\r\\n\\t\\r\\n\\r\\n\\tSubbalakshmi Lakshmipathy College of Science\\r\\n\\tMadurai, TN, India\\r\\n\\t2020 - 2023\\r\\n\\t\\r\\n\\r\\nProjects __________________________________________________________________________________________\\r\\n\\r\\n\\r\\n\\r\\n\\r\\n• Suicidal Prevention Chatbot: Retrieval Augmented Generation (RAG) System that utilizes LangChain, Chainlit, Groq, Pinecone. It provides immediate mental health support, making help accessible when it’s needed most. Upon detecting potential suicidal intent, the chatbot triggers an automated alert system, sending an email notification to a designated organization for immediate human intervention. It uses the Llama3-8b-8192 LLM model to deliver a more appropriate response. \\r\\n\\r\\n\\r\\n•  Multi Agent Article Generator: Developed using the crewAI framework, this system employs multiple agents for both research and writing an article. Utilized the Serper dev tool to interact with the google indexes and Gemini-1.5-Flash LLM model to collaboratively produce news articles.\\r\\n\\r\\n\\r\\n•  Globalize Text: Globalize Text enhances email communication using advanced AI. It offers tone selection (formal or informal) and dialect options (American or British English), powered by LangChain, Llama3-70B-8192 LLM model, Streamlit UI, and Groq for fast inference.\\r\\n\\r\\n\\r\\n•  Performance Analytics System: This NLP-based system transforms appreciation emails into quantifiable performance metrics. Utilized imaplib for email extraction and transformers for sentiment analysis. It categorizes sentiments into organizational priorities. The system assigns weightages to reflect these priorities. Uses FastAPI for building APIs, regex for pattern matching, PostgreSQL, and Flask.\\r\\n\\r\\n\\r\\n•  Flavorbot:  FlavorBot is Google's DialogFlow-powered chatbot. It’s an end-to-end NLP solution, integrated with FastAPI for seamless backend communication. Integrated within a food website, enabling users to order and track their favorite dishes with ease. \\r\\n\\r\\n\\r\\n• Social Nexus: Heart of Social Nexus lies a suite of meticulously crafted APIs that cater to the quintessential features of social media connectivity. With FastAPI at its core, dive into the backend mechanics that fuel our online interactions. Utilized FastAPI, Postman API, ORM, SQLAlchemy, JWT, Alembic, CI/CD Pipeline, Docker, OAuth2, and testing with pytest and FastAPI’s TestClient.\\r\\n\\r\\n\\r\\nAchievement __________________________________________________________________________________________\\r\\n\\r\\n\\r\\n•  Intel OneAPI Hackathon (2024): Secured third place for the Suicidal Prevention Chatbot (RAG) System.\", metadata={'source': 'https://docs.google.com/document/d/1rQ8H4a1trk9l73ZJwXj-SiC5CBGiNRvXm2x_NZk0fzw/edit', 'title': 'BadriNarayanan S - CV', 'when': '2024-07-27T05:10:26.491Z'})]"
      ]
     },
     "execution_count": 43,
     "metadata": {},
     "output_type": "execute_result"
    }
   ],
   "source": [
    "docs"
   ]
  },
  {
   "cell_type": "code",
   "execution_count": 44,
   "metadata": {},
   "outputs": [
    {
     "data": {
      "text/plain": [
       "langchain_core.documents.base.Document"
      ]
     },
     "execution_count": 44,
     "metadata": {},
     "output_type": "execute_result"
    }
   ],
   "source": [
    "type(docs[0])"
   ]
  },
  {
   "cell_type": "markdown",
   "metadata": {},
   "source": [
    "### Summarizing"
   ]
  },
  {
   "cell_type": "code",
   "execution_count": 32,
   "metadata": {},
   "outputs": [],
   "source": [
    "from langchain_community.llms import Ollama\n",
    "from langchain.chains.summarize import load_summarize_chain\n",
    "from dotenv import load_dotenv"
   ]
  },
  {
   "cell_type": "code",
   "execution_count": 33,
   "metadata": {},
   "outputs": [],
   "source": [
    "load_dotenv()\n",
    "\n",
    "# Langsmith tracking (Observable)\n",
    "os.environ['GROQ_API_KEY'] = os.getenv(\"GROQ_API_KEY\")\n",
    "os.environ[\"LANGCHAIN_TRACING_VR\"] = \"true\"\n",
    "os.environ[\"LANGCHAIN_API_KEY\"] = os.getenv(\"LANGCHAIN_API_KEY\")"
   ]
  },
  {
   "cell_type": "markdown",
   "metadata": {},
   "source": [
    "Using Ollama to call llama2 open source model"
   ]
  },
  {
   "cell_type": "code",
   "execution_count": 34,
   "metadata": {},
   "outputs": [],
   "source": [
    "llm = Ollama(model=\"llama2\",temperature=0)"
   ]
  },
  {
   "cell_type": "code",
   "execution_count": 35,
   "metadata": {},
   "outputs": [
    {
     "name": "stdout",
     "output_type": "stream",
     "text": [
      "\n",
      "\n",
      "\u001b[1m> Entering new MapReduceDocumentsChain chain...\u001b[0m\n",
      "\n",
      "\n",
      "\u001b[1m> Entering new LLMChain chain...\u001b[0m\n",
      "Prompt after formatting:\n",
      "\u001b[32;1m\u001b[1;3mWrite a concise summary of the following:\n",
      "\n",
      "\n",
      "\"﻿BADRINARAYANAN S\n",
      "  \n",
      "  BadriNarayanan S |    6383546484   |     badrisrp3836@gmail.com  |     badrinarayanan17\n",
      "My Career trajectory is firmly aligned with GenAI. Actively enhancing my expertise to leverage large language models (LLMs) for developing transformative Generative AI applications.\n",
      "\n",
      "\n",
      "Skills ____________________________________________________________________________________________\n",
      "\n",
      "•  LLM | Python | LangChain | crewAI | DialogFlow | Streamlit | Chainlit | Vector DB | FastAPI | PostgreSQL | PostmanAPI | Git |\n",
      "\n",
      "Experience _______________________________________________________________________________________\n",
      "\n",
      "Management Trainee\n",
      "\t\n",
      "\n",
      "\tNSP\n",
      "\tBangalore, KA, India\n",
      "\t02/2023 - 05/2023\n",
      "\t•   Contributed to an AI/ML-driven performance analytics system, delivering a proof of concept in just 3 months. Researched and integrated AIML innovations, earning stakeholder acclaim. Communicated key updates to executives and documented the project’s framework and results, laying the groundwork for ongoing advancements.\n",
      "\n",
      "Education ________________________________________________________________________________________\n",
      "\n",
      "Master of Science (MS)\n",
      "•   \n",
      "    • Artificial Intelligence and Machine Learning\n",
      "\t\n",
      "\n",
      "\tChrist University\n",
      "\tBangalore, KA, India\n",
      "\t2023 - 2025\n",
      "\t\n",
      "\n",
      "Bsc Computer Science (SSS)\n",
      "•   \n",
      "    • Security System Specialization\n",
      "\t\n",
      "\n",
      "\tSubbalakshmi Lakshmipathy College of Science\n",
      "\tMadurai, TN, India\n",
      "\t2020 - 2023\n",
      "\t\n",
      "\n",
      "Projects __________________________________________________________________________________________\n",
      "\n",
      "\n",
      "\n",
      "\n",
      "• Suicidal Prevention Chatbot: Retrieval Augmented Generation (RAG) System that utilizes LangChain, Chainlit, Groq, Pinecone. It provides immediate mental health support, making help accessible when it’s needed most. Upon detecting potential suicidal intent, the chatbot triggers an automated alert system, sending an email notification to a designated organization for immediate human intervention. It uses the Llama3-8b-8192 LLM model to deliver a more appropriate response. \n",
      "\n",
      "\n",
      "•  Multi Agent Article Generator: Developed using the crewAI framework, this system employs multiple agents for both research and writing an article. Utilized the Serper dev tool to interact with the google indexes and Gemini-1.5-Flash LLM model to collaboratively produce news articles.\n",
      "\n",
      "\n",
      "•  Globalize Text: Globalize Text enhances email communication using advanced AI. It offers tone selection (formal or informal) and dialect options (American or British English), powered by LangChain, Llama3-70B-8192 LLM model, Streamlit UI, and Groq for fast inference.\n",
      "\n",
      "\n",
      "•  Performance Analytics System: This NLP-based system transforms appreciation emails into quantifiable performance metrics. Utilized imaplib for email extraction and transformers for sentiment analysis. It categorizes sentiments into organizational priorities. The system assigns weightages to reflect these priorities. Uses FastAPI for building APIs, regex for pattern matching, PostgreSQL, and Flask.\n",
      "\n",
      "\n",
      "•  Flavorbot:  FlavorBot is Google's DialogFlow-powered chatbot. It’s an end-to-end NLP solution, integrated with FastAPI for seamless backend communication. Integrated within a food website, enabling users to order and track their favorite dishes with ease. \n",
      "\n",
      "\n",
      "• Social Nexus: Heart of Social Nexus lies a suite of meticulously crafted APIs that cater to the quintessential features of social media connectivity. With FastAPI at its core, dive into the backend mechanics that fuel our online interactions. Utilized FastAPI, Postman API, ORM, SQLAlchemy, JWT, Alembic, CI/CD Pipeline, Docker, OAuth2, and testing with pytest and FastAPI’s TestClient.\n",
      "\n",
      "\n",
      "Achievement __________________________________________________________________________________________\n",
      "\n",
      "\n",
      "•  Intel OneAPI Hackathon (2024): Secured third place for the Suicidal Prevention Chatbot (RAG) System.\"\n",
      "\n",
      "\n",
      "CONCISE SUMMARY:\u001b[0m\n",
      "\n",
      "\u001b[1m> Finished chain.\u001b[0m\n",
      "\n",
      "\n",
      "\u001b[1m> Entering new LLMChain chain...\u001b[0m\n",
      "Prompt after formatting:\n",
      "\u001b[32;1m\u001b[1;3mWrite a concise summary of the following:\n",
      "\n",
      "\n",
      "\"Here is a concise summary:\n",
      "\n",
      "BadriNarayanan S is a GenAI-focused professional with expertise in large language models (LLMs) and generative AI applications. He has a strong background in AI/ML, with a Master's degree in Artificial Intelligence and Machine Learning from Christ University. His experience includes working as a Management Trainee at NSP, where he developed an AI/ML-driven performance analytics system. He has also worked on several projects, including a suicidal prevention chatbot, multi-agent article generator, and globalize text, showcasing his skills in LLMs, Python, LangChain, and more. He secured third place in the Intel OneAPI Hackathon (2024) for his suicidal prevention chatbot.\"\n",
      "\n",
      "\n",
      "CONCISE SUMMARY:\u001b[0m\n",
      "\n",
      "\u001b[1m> Finished chain.\u001b[0m\n",
      "\n",
      "\u001b[1m> Finished chain.\u001b[0m\n"
     ]
    },
    {
     "data": {
      "text/plain": [
       "\"Here is a concise summary:\\n\\nBadriNarayanan S is a GenAI expert with a Master's in AI/ML, experienced in large language models and generative AI. He has developed AI-driven systems and projects, including a suicidal prevention chatbot, and won 3rd place in the Intel OneAPI Hackathon.\""
      ]
     },
     "execution_count": 35,
     "metadata": {},
     "output_type": "execute_result"
    }
   ],
   "source": [
    "chain = load_summarize_chain(llm,chain_type=\"map_reduce\",verbose=True)\n",
    "chain.run(docs)"
   ]
  },
  {
   "cell_type": "markdown",
   "metadata": {},
   "source": [
    "It returned the summary for the google drive document. Used map reduce chain."
   ]
  },
  {
   "cell_type": "markdown",
   "metadata": {},
   "source": [
    "Using ChatGroq Inference to fasten"
   ]
  },
  {
   "cell_type": "code",
   "execution_count": 45,
   "metadata": {},
   "outputs": [],
   "source": [
    "groqllm = ChatGroq(model=\"llama3-70b-8192\",temperature=0)"
   ]
  },
  {
   "cell_type": "code",
   "execution_count": 46,
   "metadata": {},
   "outputs": [
    {
     "name": "stdout",
     "output_type": "stream",
     "text": [
      "\n",
      "\n",
      "\u001b[1m> Entering new MapReduceDocumentsChain chain...\u001b[0m\n",
      "\n",
      "\n",
      "\u001b[1m> Entering new LLMChain chain...\u001b[0m\n",
      "Prompt after formatting:\n",
      "\u001b[32;1m\u001b[1;3mWrite a concise summary of the following:\n",
      "\n",
      "\n",
      "\"﻿BADRINARAYANAN S\n",
      "  \n",
      "  BadriNarayanan S |    6383546484   |     badrisrp3836@gmail.com  |     badrinarayanan17\n",
      "My Career trajectory is firmly aligned with GenAI. Actively enhancing my expertise to leverage large language models (LLMs) for developing transformative Generative AI applications.\n",
      "\n",
      "\n",
      "Skills ____________________________________________________________________________________________\n",
      "\n",
      "•  LLM | Python | LangChain | crewAI | DialogFlow | Streamlit | Chainlit | Vector DB | FastAPI | PostgreSQL | PostmanAPI | Git |\n",
      "\n",
      "Experience _______________________________________________________________________________________\n",
      "\n",
      "Management Trainee\n",
      "\t\n",
      "\n",
      "\tNSP\n",
      "\tBangalore, KA, India\n",
      "\t02/2023 - 05/2023\n",
      "\t•   Contributed to an AI/ML-driven performance analytics system, delivering a proof of concept in just 3 months. Researched and integrated AIML innovations, earning stakeholder acclaim. Communicated key updates to executives and documented the project’s framework and results, laying the groundwork for ongoing advancements.\n",
      "\n",
      "Education ________________________________________________________________________________________\n",
      "\n",
      "Master of Science (MS)\n",
      "•   \n",
      "    • Artificial Intelligence and Machine Learning\n",
      "\t\n",
      "\n",
      "\tChrist University\n",
      "\tBangalore, KA, India\n",
      "\t2023 - 2025\n",
      "\t\n",
      "\n",
      "Bsc Computer Science (SSS)\n",
      "•   \n",
      "    • Security System Specialization\n",
      "\t\n",
      "\n",
      "\tSubbalakshmi Lakshmipathy College of Science\n",
      "\tMadurai, TN, India\n",
      "\t2020 - 2023\n",
      "\t\n",
      "\n",
      "Projects __________________________________________________________________________________________\n",
      "\n",
      "\n",
      "\n",
      "\n",
      "• Suicidal Prevention Chatbot: Retrieval Augmented Generation (RAG) System that utilizes LangChain, Chainlit, Groq, Pinecone. It provides immediate mental health support, making help accessible when it’s needed most. Upon detecting potential suicidal intent, the chatbot triggers an automated alert system, sending an email notification to a designated organization for immediate human intervention. It uses the Llama3-8b-8192 LLM model to deliver a more appropriate response. \n",
      "\n",
      "\n",
      "•  Multi Agent Article Generator: Developed using the crewAI framework, this system employs multiple agents for both research and writing an article. Utilized the Serper dev tool to interact with the google indexes and Gemini-1.5-Flash LLM model to collaboratively produce news articles.\n",
      "\n",
      "\n",
      "•  Globalize Text: Globalize Text enhances email communication using advanced AI. It offers tone selection (formal or informal) and dialect options (American or British English), powered by LangChain, Llama3-70B-8192 LLM model, Streamlit UI, and Groq for fast inference.\n",
      "\n",
      "\n",
      "•  Performance Analytics System: This NLP-based system transforms appreciation emails into quantifiable performance metrics. Utilized imaplib for email extraction and transformers for sentiment analysis. It categorizes sentiments into organizational priorities. The system assigns weightages to reflect these priorities. Uses FastAPI for building APIs, regex for pattern matching, PostgreSQL, and Flask.\n",
      "\n",
      "\n",
      "•  Flavorbot:  FlavorBot is Google's DialogFlow-powered chatbot. It’s an end-to-end NLP solution, integrated with FastAPI for seamless backend communication. Integrated within a food website, enabling users to order and track their favorite dishes with ease. \n",
      "\n",
      "\n",
      "• Social Nexus: Heart of Social Nexus lies a suite of meticulously crafted APIs that cater to the quintessential features of social media connectivity. With FastAPI at its core, dive into the backend mechanics that fuel our online interactions. Utilized FastAPI, Postman API, ORM, SQLAlchemy, JWT, Alembic, CI/CD Pipeline, Docker, OAuth2, and testing with pytest and FastAPI’s TestClient.\n",
      "\n",
      "\n",
      "Achievement __________________________________________________________________________________________\n",
      "\n",
      "\n",
      "•  Intel OneAPI Hackathon (2024): Secured third place for the Suicidal Prevention Chatbot (RAG) System.\"\n",
      "\n",
      "\n",
      "CONCISE SUMMARY:\u001b[0m\n",
      "\n",
      "\u001b[1m> Finished chain.\u001b[0m\n",
      "\n",
      "\n",
      "\u001b[1m> Entering new LLMChain chain...\u001b[0m\n",
      "Prompt after formatting:\n",
      "\u001b[32;1m\u001b[1;3mWrite a concise summary of the following:\n",
      "\n",
      "\n",
      "\"Here is a concise summary:\n",
      "\n",
      "BadriNarayanan S is a GenAI-focused professional with expertise in large language models (LLMs) and generative AI applications. He has a strong background in AI/ML, with a Master's degree in Artificial Intelligence and Machine Learning from Christ University. His experience includes working as a Management Trainee at NSP, where he developed an AI/ML-driven performance analytics system. He has also worked on several projects, including a suicidal prevention chatbot, multi-agent article generator, and globalize text, showcasing his skills in LLMs, Python, LangChain, and more. He secured third place in the Intel OneAPI Hackathon (2024) for his suicidal prevention chatbot.\"\n",
      "\n",
      "\n",
      "CONCISE SUMMARY:\u001b[0m\n",
      "\n",
      "\u001b[1m> Finished chain.\u001b[0m\n",
      "\n",
      "\u001b[1m> Finished chain.\u001b[0m\n"
     ]
    },
    {
     "data": {
      "text/plain": [
       "\"Here is a concise summary:\\n\\nBadriNarayanan S is a GenAI expert with a Master's in AI/ML, experienced in large language models and generative AI. He has developed AI-driven systems and projects, including a suicidal prevention chatbot, and won 3rd place in the Intel OneAPI Hackathon.\""
      ]
     },
     "execution_count": 46,
     "metadata": {},
     "output_type": "execute_result"
    }
   ],
   "source": [
    "chain = load_summarize_chain(groqllm,chain_type=\"map_reduce\",verbose=True)\n",
    "chain.run(docs)"
   ]
  },
  {
   "cell_type": "markdown",
   "metadata": {},
   "source": [
    "Chatgroq performed it in less than 3 sec. This is the absolute usecase of this inference engine."
   ]
  },
  {
   "cell_type": "markdown",
   "metadata": {},
   "source": [
    "### Asking Questions"
   ]
  },
  {
   "cell_type": "code",
   "execution_count": 36,
   "metadata": {},
   "outputs": [],
   "source": [
    "from langchain.chains.question_answering import load_qa_chain"
   ]
  },
  {
   "cell_type": "code",
   "execution_count": 47,
   "metadata": {},
   "outputs": [],
   "source": [
    "query = \"Where did the resume holder did the internship\" # Querying the document"
   ]
  },
  {
   "cell_type": "code",
   "execution_count": 48,
   "metadata": {},
   "outputs": [
    {
     "name": "stdout",
     "output_type": "stream",
     "text": [
      "\n",
      "\n",
      "\u001b[1m> Entering new StuffDocumentsChain chain...\u001b[0m\n",
      "\n",
      "\n",
      "\u001b[1m> Entering new LLMChain chain...\u001b[0m\n",
      "Prompt after formatting:\n",
      "\u001b[32;1m\u001b[1;3mSystem: Use the following pieces of context to answer the user's question. \n",
      "If you don't know the answer, just say that you don't know, don't try to make up an answer.\n",
      "----------------\n",
      "﻿BADRINARAYANAN S\n",
      "  \n",
      "  BadriNarayanan S |    6383546484   |     badrisrp3836@gmail.com  |     badrinarayanan17\n",
      "My Career trajectory is firmly aligned with GenAI. Actively enhancing my expertise to leverage large language models (LLMs) for developing transformative Generative AI applications.\n",
      "\n",
      "\n",
      "Skills ____________________________________________________________________________________________\n",
      "\n",
      "•  LLM | Python | LangChain | crewAI | DialogFlow | Streamlit | Chainlit | Vector DB | FastAPI | PostgreSQL | PostmanAPI | Git |\n",
      "\n",
      "Experience _______________________________________________________________________________________\n",
      "\n",
      "Management Trainee\n",
      "\t\n",
      "\n",
      "\tNSP\n",
      "\tBangalore, KA, India\n",
      "\t02/2023 - 05/2023\n",
      "\t•   Contributed to an AI/ML-driven performance analytics system, delivering a proof of concept in just 3 months. Researched and integrated AIML innovations, earning stakeholder acclaim. Communicated key updates to executives and documented the project’s framework and results, laying the groundwork for ongoing advancements.\n",
      "\n",
      "Education ________________________________________________________________________________________\n",
      "\n",
      "Master of Science (MS)\n",
      "•   \n",
      "    • Artificial Intelligence and Machine Learning\n",
      "\t\n",
      "\n",
      "\tChrist University\n",
      "\tBangalore, KA, India\n",
      "\t2023 - 2025\n",
      "\t\n",
      "\n",
      "Bsc Computer Science (SSS)\n",
      "•   \n",
      "    • Security System Specialization\n",
      "\t\n",
      "\n",
      "\tSubbalakshmi Lakshmipathy College of Science\n",
      "\tMadurai, TN, India\n",
      "\t2020 - 2023\n",
      "\t\n",
      "\n",
      "Projects __________________________________________________________________________________________\n",
      "\n",
      "\n",
      "\n",
      "\n",
      "• Suicidal Prevention Chatbot: Retrieval Augmented Generation (RAG) System that utilizes LangChain, Chainlit, Groq, Pinecone. It provides immediate mental health support, making help accessible when it’s needed most. Upon detecting potential suicidal intent, the chatbot triggers an automated alert system, sending an email notification to a designated organization for immediate human intervention. It uses the Llama3-8b-8192 LLM model to deliver a more appropriate response. \n",
      "\n",
      "\n",
      "•  Multi Agent Article Generator: Developed using the crewAI framework, this system employs multiple agents for both research and writing an article. Utilized the Serper dev tool to interact with the google indexes and Gemini-1.5-Flash LLM model to collaboratively produce news articles.\n",
      "\n",
      "\n",
      "•  Globalize Text: Globalize Text enhances email communication using advanced AI. It offers tone selection (formal or informal) and dialect options (American or British English), powered by LangChain, Llama3-70B-8192 LLM model, Streamlit UI, and Groq for fast inference.\n",
      "\n",
      "\n",
      "•  Performance Analytics System: This NLP-based system transforms appreciation emails into quantifiable performance metrics. Utilized imaplib for email extraction and transformers for sentiment analysis. It categorizes sentiments into organizational priorities. The system assigns weightages to reflect these priorities. Uses FastAPI for building APIs, regex for pattern matching, PostgreSQL, and Flask.\n",
      "\n",
      "\n",
      "•  Flavorbot:  FlavorBot is Google's DialogFlow-powered chatbot. It’s an end-to-end NLP solution, integrated with FastAPI for seamless backend communication. Integrated within a food website, enabling users to order and track their favorite dishes with ease. \n",
      "\n",
      "\n",
      "• Social Nexus: Heart of Social Nexus lies a suite of meticulously crafted APIs that cater to the quintessential features of social media connectivity. With FastAPI at its core, dive into the backend mechanics that fuel our online interactions. Utilized FastAPI, Postman API, ORM, SQLAlchemy, JWT, Alembic, CI/CD Pipeline, Docker, OAuth2, and testing with pytest and FastAPI’s TestClient.\n",
      "\n",
      "\n",
      "Achievement __________________________________________________________________________________________\n",
      "\n",
      "\n",
      "•  Intel OneAPI Hackathon (2024): Secured third place for the Suicidal Prevention Chatbot (RAG) System.\n",
      "Human: Where did the resume holder did the internship\u001b[0m\n",
      "\n",
      "\u001b[1m> Finished chain.\u001b[0m\n",
      "\n",
      "\u001b[1m> Finished chain.\u001b[0m\n"
     ]
    },
    {
     "data": {
      "text/plain": [
       "'According to the resume, the holder did an internship as a Management Trainee at NSP in Bangalore, KA, India from 02/2023 to 05/2023.'"
      ]
     },
     "execution_count": 48,
     "metadata": {},
     "output_type": "execute_result"
    }
   ],
   "source": [
    "chain = load_qa_chain(groqllm,chain_type=\"stuff\",verbose=True)\n",
    "chain.run(input_documents = docs, question = query)"
   ]
  },
  {
   "cell_type": "markdown",
   "metadata": {},
   "source": [
    "It gave good results after interacting with the document. Langchain has the ability to hold the prompts.\n",
    "\n",
    "If we want to interact with another document we can simply extend the initial doc. It holds all the base."
   ]
  }
 ],
 "metadata": {
  "kernelspec": {
   "display_name": "Python 3",
   "language": "python",
   "name": "python3"
  },
  "language_info": {
   "codemirror_mode": {
    "name": "ipython",
    "version": 3
   },
   "file_extension": ".py",
   "mimetype": "text/x-python",
   "name": "python",
   "nbconvert_exporter": "python",
   "pygments_lexer": "ipython3",
   "version": "3.9.6"
  }
 },
 "nbformat": 4,
 "nbformat_minor": 2
}
